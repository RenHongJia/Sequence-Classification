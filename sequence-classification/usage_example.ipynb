{
 "cells": [
  {
   "cell_type": "code",
   "execution_count": 1,
   "metadata": {},
   "outputs": [],
   "source": [
    "import numpy\n",
    "from keras.datasets import imdb\n",
    "\n",
    "from sequence_classifier_comparator import SequenceClassifierComparator\n",
    "from classifiers import *\n",
    "from results_reader import ResultsReader\n",
    "from results_writer import ResultsWriter\n",
    "from helpers import datasets_helper"
   ]
  },
  {
   "cell_type": "code",
   "execution_count": 2,
   "metadata": {},
   "outputs": [],
   "source": [
    "# fix random seed for reproducibility\n",
    "numpy.random.seed(7)\n",
    "\n",
    "# load the dataset but only keep the top n words, zero the rest\n",
    "top_words = 5000\n",
    "(X_train, y_train), (X_test, y_test) = imdb.load_data(num_words=top_words)\n",
    "# (X_train, y_train), (X_test, y_test) = datasets_helper.get_sentiment_data(train_test_ratio = 0.5)\n",
    "# (X_train, y_train), (X_test, y_test) = datasets_helper.get_troll_data(train_test_ratio = 0.5)\n",
    "(X_train, y_train), (X_test, y_test) = datasets_helper.get_valley_data(train_test_ratio = 0.5)\n",
    "\n",
    "\n",
    "X = numpy.concatenate((X_train, X_test))\n",
    "y = numpy.concatenate((y_train, y_test))"
   ]
  },
  {
   "cell_type": "code",
   "execution_count": 3,
   "metadata": {},
   "outputs": [],
   "source": [
    "X = X[:1000]\n",
    "y = y[:1000]"
   ]
  },
  {
   "cell_type": "code",
   "execution_count": 4,
   "metadata": {},
   "outputs": [],
   "source": [
    "comparator = SequenceClassifierComparator(ResultsWriter(), ResultsReader())"
   ]
  },
  {
   "cell_type": "code",
   "execution_count": 5,
   "metadata": {},
   "outputs": [],
   "source": [
    "nn_classifier = NeuralNetworksClassifier()\n",
    "comparator.add_classifier(nn_classifier)"
   ]
  },
  {
   "cell_type": "code",
   "execution_count": 6,
   "metadata": {},
   "outputs": [],
   "source": [
    "svm_classifier = SVMClassifier()\n",
    "svm_transformer = svm_classifier.get_transformer()\n",
    "comparator.add_classifier(svm_classifier, sequence_transformer=svm_transformer)"
   ]
  },
  {
   "cell_type": "code",
   "execution_count": 7,
   "metadata": {},
   "outputs": [],
   "source": [
    "knn_classifier = KNNClassifier(n_neighbors=1)\n",
    "comparator.add_classifier(knn_classifier)"
   ]
  },
  {
   "cell_type": "code",
   "execution_count": null,
   "metadata": {},
   "outputs": [],
   "source": [
    "hmm_classifier = HMMClassifier()\n",
    "hmm_transformer = hmm_classifier.get_transformer()\n",
    "comparator.add_classifier(hmm_classifier, sequence_transformer=hmm_transformer)"
   ]
  },
  {
   "cell_type": "code",
   "execution_count": null,
   "metadata": {},
   "outputs": [],
   "source": [
    "pb_classifier = PatternBasedClassifier()\n",
    "comparator.add_classifier(pb_classifier)"
   ]
  },
  {
   "cell_type": "code",
   "execution_count": 11,
   "metadata": {
    "scrolled": false
   },
   "outputs": [],
   "source": [
    "comparator.fit_predict(X, y, rounds=2)"
   ]
  },
  {
   "cell_type": "code",
   "execution_count": null,
   "metadata": {},
   "outputs": [],
   "source": [
    "presenter = comparator.get_presenter()\n",
    "presenter.show_all()"
   ]
  }
 ],
 "metadata": {
  "kernelspec": {
   "display_name": "Python 3",
   "language": "python",
   "name": "python3"
  },
  "language_info": {
   "codemirror_mode": {
    "name": "ipython",
    "version": 3
   },
   "file_extension": ".py",
   "mimetype": "text/x-python",
   "name": "python",
   "nbconvert_exporter": "python",
   "pygments_lexer": "ipython3",
   "version": "3.6.6"
  }
 },
 "nbformat": 4,
 "nbformat_minor": 1
}
