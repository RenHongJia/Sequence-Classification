{
 "cells": [
  {
   "cell_type": "code",
   "execution_count": null,
   "metadata": {},
   "outputs": [],
   "source": [
    "import numpy\n",
    "from keras.datasets import imdb\n",
    "\n",
    "from sequence_classification.sequence_classifier_manager import SequenceClassifierManager\n",
    "from sequence_classification.classifiers import *\n",
    "from sequence_classification.results_reader import ResultsReader\n",
    "from sequence_classification.results_writer import ResultsWriter\n",
    "\n",
    "from sequence_classification.datasets import sentiment, bio_data, troll_detection, valley, imdb\n",
    "from sequence_classification.transformers.bag_of_words import BagOfWordsTransformer"
   ]
  },
  {
   "cell_type": "code",
   "execution_count": null,
   "metadata": {},
   "outputs": [],
   "source": [
    "# fix random seed for reproducibility\n",
    "numpy.random.seed(7)"
   ]
  },
  {
   "cell_type": "code",
   "execution_count": null,
   "metadata": {},
   "outputs": [],
   "source": [
    "manager = SequenceClassifierManager(ResultsWriter(), ResultsReader())"
   ]
  },
  {
   "cell_type": "code",
   "execution_count": null,
   "metadata": {},
   "outputs": [],
   "source": [
    "manager.add_dataset(sentiment.CommentSentimentDataset)\n",
    "manager.add_dataset(bio_data.BioDataset)\n",
    "manager.add_dataset(troll_detection.TrollDataset)\n",
    "manager.add_dataset(valley.ValleyDataset)\n",
    "manager.add_dataset(imdb.IMDbDataset)"
   ]
  },
  {
   "cell_type": "code",
   "execution_count": null,
   "metadata": {},
   "outputs": [],
   "source": [
    "nn_classifier = NeuralNetworksClassifier()\n",
    "manager.add_classifier(nn_classifier)"
   ]
  },
  {
   "cell_type": "code",
   "execution_count": null,
   "metadata": {},
   "outputs": [],
   "source": [
    "svm_classifier = SVMClassifier(transformer=BagOfWordsTransformer())\n",
    "manager.add_classifier(svm_classifier)"
   ]
  },
  {
   "cell_type": "code",
   "execution_count": null,
   "metadata": {},
   "outputs": [],
   "source": [
    "knn_classifier = KNNClassifier(n_neighbors=1)\n",
    "manager.add_classifier(knn_classifier)"
   ]
  },
  {
   "cell_type": "code",
   "execution_count": null,
   "metadata": {},
   "outputs": [],
   "source": [
    "hmm_classifier = HMMClassifier(transformer=BagOfWordsTransformer())\n",
    "manager.add_classifier(hmm_classifier)"
   ]
  },
  {
   "cell_type": "code",
   "execution_count": null,
   "metadata": {},
   "outputs": [],
   "source": [
    "pb_classifier = PatternBasedClassifier()\n",
    "manager.add_classifier(pb_classifier)"
   ]
  },
  {
   "cell_type": "code",
   "execution_count": null,
   "metadata": {
    "scrolled": false
   },
   "outputs": [],
   "source": [
    "manager.fit_predict_all(rounds=5)"
   ]
  },
  {
   "cell_type": "code",
   "execution_count": null,
   "metadata": {
    "scrolled": false
   },
   "outputs": [],
   "source": [
    "presenter = manager.get_presenter()\n",
    "presenter.show_all()"
   ]
  }
 ],
 "metadata": {
  "kernelspec": {
   "display_name": "Python 3",
   "language": "python",
   "name": "python3"
  },
  "language_info": {
   "codemirror_mode": {
    "name": "ipython",
    "version": 3
   },
   "file_extension": ".py",
   "mimetype": "text/x-python",
   "name": "python",
   "nbconvert_exporter": "python",
   "pygments_lexer": "ipython3",
   "version": "3.6.3"
  }
 },
 "nbformat": 4,
 "nbformat_minor": 1
}
