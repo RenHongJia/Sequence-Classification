{
 "cells": [
  {
   "cell_type": "code",
   "execution_count": null,
   "metadata": {},
   "outputs": [],
   "source": [
    "import numpy\n",
    "from keras.datasets import imdb\n",
    "\n",
    "from sequence_classification.sequence_classifier_comparator import SequenceClassifierComparator\n",
    "from sequence_classification.classifiers import *\n",
    "from sequence_classification.results_reader import ResultsReader\n",
    "from sequence_classification.results_writer import ResultsWriter\n",
    "\n",
    "from sequence_classification.datasets import (sentiment, bio_data, troll_detection, valley, imdb)"
    "from sequence_classification.transformers.bag_of_words import BagOfWordsTransformer"
   ]
  },
  {
   "cell_type": "code",
   "execution_count": null,
   "metadata": {},
   "outputs": [],
   "source": [
    "# fix random seed for reproducibility\n",
    "numpy.random.seed(7)\n",
    "\n",
    "# load the dataset but only keep the top n words, zero the rest\n",
    "top_words = 5000\n",
    "\n",
    "# X = numpy.concatenate((X_train, X_test))\n",
    "# y = numpy.concatenate((y_train, y_test))"
   ]
  },
  {
   "cell_type": "code",
   "execution_count": null,
   "metadata": {
    "collapsed": true
   },
   "outputs": [],
   "source": [
    "X = X[:1000]\n",
    "y = y[:1000]"
   ]
  },
  {
   "cell_type": "code",
   "execution_count": null,
   "metadata": {
    "collapsed": true
   },
   "outputs": [],
   "source": [
    "comparator = SequenceClassifierComparator(ResultsWriter(), ResultsReader())"
   ]
  },
  {
   "cell_type": "code",
   "execution_count": null,
   "metadata": {},
   "outputs": [],
   "source": [
    "comparator.add_dataset(sentiment.CommentSentimentDataset)\n",
    "comparator.add_dataset(bio_data.BioDataset)\n",
    "comparator.add_dataset(troll_detection.TrollDataset)\n",
    "comparator.add_dataset(valley.ValleyDataset)\n",
    "comparator.add_dataset(imdb.IMDbDataset)"
   ]
  },
  {
   "cell_type": "code",
   "execution_count": null,
   "metadata": {
    "collapsed": true
   },
   "outputs": [],
   "source": [
    "nn_classifier = NeuralNetworksClassifier()\n",
    "comparator.add_classifier(nn_classifier)"
   ]
  },
  {
   "cell_type": "code",
   "execution_count": null,
   "metadata": {
    "collapsed": true
   },
   "outputs": [],
   "source": [
    "svm_classifier = SVMClassifier(transformer=BagOfWordsTransformer())\n",
    "comparator.add_classifier(svm_classifier)"
   ]
  },
  {
   "cell_type": "code",
   "execution_count": null,
   "metadata": {
    "collapsed": true
   },
   "outputs": [],
   "source": [
    "knn_classifier = KNNClassifier(n_neighbors=1)\n",
    "comparator.add_classifier(knn_classifier)"
   ]
  },
  {
   "cell_type": "code",
   "execution_count": null,
   "metadata": {
    "collapsed": true
   },
   "outputs": [],
   "source": [
    "hmm_classifier = HMMClassifier(transformer=BagOfWordsTransformer())\n",
    "comparator.add_classifier(hmm_classifier)"
   ]
  },
  {
   "cell_type": "code",
   "execution_count": null,
   "metadata": {
    "collapsed": true
   },
   "outputs": [],
   "source": [
    "pb_classifier = PatternBasedClassifier()\n",
    "comparator.add_classifier(pb_classifier)"
   ]
  },
  {
   "cell_type": "code",
   "execution_count": null,
   "metadata": {
    "scrolled": false
   },
   "outputs": [],
   "source": [
    "comparator.fit_predict_all(rounds=1)"
   ]
  },
  {
   "cell_type": "code",
   "execution_count": null,
   "metadata": {
    "scrolled": false
   },
   "outputs": [],
   "source": [
    "presenter = comparator.get_presenter()\n",
    "presenter.show_all()"
   ]
  }
 ],
 "metadata": {
  "kernelspec": {
   "display_name": "Python 3",
   "language": "python",
   "name": "python3"
  },
  "language_info": {
   "codemirror_mode": {
    "name": "ipython",
    "version": 3
   },
   "file_extension": ".py",
   "mimetype": "text/x-python",
   "name": "python",
   "nbconvert_exporter": "python",
   "pygments_lexer": "ipython3",
   "version": "3.6.3"
  }
 },
 "nbformat": 4,
 "nbformat_minor": 1
}
